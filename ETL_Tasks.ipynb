{
 "cells": [
  {
   "cell_type": "markdown",
   "metadata": {},
   "source": [
    "ETL first Task"
   ]
  },
  {
   "cell_type": "code",
   "execution_count": 2,
   "metadata": {},
   "outputs": [
    {
     "name": "stdout",
     "output_type": "stream",
     "text": [
      "This Is Just A Text File For Performing Etl(Extract Transform Load).\n"
     ]
    }
   ],
   "source": [
    "#opening file to read\n",
    "with open(\"example.txt\",\"r\") as file:\n",
    "    #storing the file contents\n",
    "    string = file.read()\n",
    "#printing the capitalize\n",
    "print(string.title())\n",
    "#creating a new file in different folder\n",
    "with open(\"task/output.txt\",\"w\") as out:\n",
    "    #writing the contents in the file\n",
    "    out.write(string.title())"
   ]
  },
  {
   "cell_type": "markdown",
   "metadata": {},
   "source": [
    "ETL second Task"
   ]
  },
  {
   "cell_type": "code",
   "execution_count": 4,
   "metadata": {},
   "outputs": [
    {
     "name": "stdout",
     "output_type": "stream",
     "text": [
      "Fear\n",
      "leads\n",
      "to\n",
      "anger\n",
      "anger\n",
      "leads\n",
      "to\n",
      "hatred\n",
      "hatred\n",
      "leads\n",
      "to\n",
      "conflict\n",
      "conflict\n",
      "leads\n",
      "to\n",
      "suffering\n",
      "['Fear', 'leads', 'to', 'anger', 'anger', 'leads', 'to', 'hatred', 'hatred', 'leads', 'to', 'conflict', 'conflict', 'leads', 'to', 'suffering']\n",
      "Fear  ->  1\n",
      "leads  ->  4\n",
      "to  ->  4\n",
      "anger  ->  2\n",
      "hatred  ->  2\n",
      "conflict  ->  2\n",
      "suffering  ->  1\n"
     ]
    }
   ],
   "source": [
    "#initializing the list \n",
    "test = list()\n",
    "#opening the file to read\n",
    "with open(\"textfile.txt\",\"r\") as string:\n",
    "#fetching the words instead of letters from file\n",
    "    for line in string:\n",
    "        for word in line.split():\n",
    "            print(word)\n",
    "            #appending the fetched words in the list\n",
    "            test.append(word)\n",
    "#printing the list\n",
    "print(test)\n",
    "#initializing a dictionary to store word count\n",
    "count = dict()\n",
    "for elem in test:\n",
    "    #if element occurs once the count is initialized 1 else the count is incremented\n",
    "        if elem in count:\n",
    "            count[elem] += 1\n",
    "        else:\n",
    "            count[elem] = 1\n",
    "#printing the word count\n",
    "for key, value in count.items():\n",
    "        print(key , ' -> ', value)\n",
    "#creating a file\n",
    "with open(\"task/recurrence.txt\",\"w\") as out:\n",
    "    #writing the words and their count in the file\n",
    "    for key, value in count.items():\n",
    "        string= str(  \" %s -> %s \" %(key,value))\n",
    "        out.write(string)"
   ]
  },
  {
   "cell_type": "code",
   "execution_count": null,
   "metadata": {},
   "outputs": [],
   "source": []
  }
 ],
 "metadata": {
  "kernelspec": {
   "display_name": "Python 3",
   "language": "python",
   "name": "python3"
  },
  "language_info": {
   "codemirror_mode": {
    "name": "ipython",
    "version": 3
   },
   "file_extension": ".py",
   "mimetype": "text/x-python",
   "name": "python",
   "nbconvert_exporter": "python",
   "pygments_lexer": "ipython3",
   "version": "3.8.3"
  }
 },
 "nbformat": 4,
 "nbformat_minor": 4
}
